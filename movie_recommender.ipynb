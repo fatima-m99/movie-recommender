{
 "cells": [
  {
   "cell_type": "markdown",
   "id": "7fb6f5e1-d909-4cd6-b2ea-c559d556a3c1",
   "metadata": {},
   "source": [
    "# Movie Recommender System\n",
    "\n",
    "This project implements a **content-based movie recommendation system** using the **MovieLens 20M dataset**.  \n",
    "The system recommends movies based on **genre similarity** and **popularity**.\n",
    "\n",
    "**Author:** Fatemeh Mohammadi  \n",
    "**Date:** 2025-10-17"
   ]
  },
  {
   "cell_type": "code",
   "execution_count": 2,
   "id": "04eef252-235c-4b46-872e-4a40ebc7223b",
   "metadata": {},
   "outputs": [],
   "source": [
    "# Import necessary libraries\n",
    "import pandas as pd\n",
    "import numpy as np\n",
    "from sklearn.metrics.pairwise import cosine_similarity\n",
    "import re\n"
   ]
  },
  {
   "cell_type": "markdown",
   "id": "43cff705-6936-4567-93ba-83efc951aa29",
   "metadata": {},
   "source": [
    "## Load MovieLens Dataset\n",
    "\n",
    "We use `movies.csv` and `ratings.csv` from MovieLens 20M dataset.\n"
   ]
  },
  {
   "cell_type": "code",
   "execution_count": 3,
   "id": "897274a4-4f7b-4568-a131-73e40cfecfa7",
   "metadata": {},
   "outputs": [
    {
     "data": {
      "text/html": [
       "<div>\n",
       "<style scoped>\n",
       "    .dataframe tbody tr th:only-of-type {\n",
       "        vertical-align: middle;\n",
       "    }\n",
       "\n",
       "    .dataframe tbody tr th {\n",
       "        vertical-align: top;\n",
       "    }\n",
       "\n",
       "    .dataframe thead th {\n",
       "        text-align: right;\n",
       "    }\n",
       "</style>\n",
       "<table border=\"1\" class=\"dataframe\">\n",
       "  <thead>\n",
       "    <tr style=\"text-align: right;\">\n",
       "      <th></th>\n",
       "      <th>movieId</th>\n",
       "      <th>title</th>\n",
       "      <th>genres</th>\n",
       "    </tr>\n",
       "  </thead>\n",
       "  <tbody>\n",
       "    <tr>\n",
       "      <th>0</th>\n",
       "      <td>1</td>\n",
       "      <td>Toy Story (1995)</td>\n",
       "      <td>Adventure|Animation|Children|Comedy|Fantasy</td>\n",
       "    </tr>\n",
       "    <tr>\n",
       "      <th>1</th>\n",
       "      <td>2</td>\n",
       "      <td>Jumanji (1995)</td>\n",
       "      <td>Adventure|Children|Fantasy</td>\n",
       "    </tr>\n",
       "    <tr>\n",
       "      <th>2</th>\n",
       "      <td>3</td>\n",
       "      <td>Grumpier Old Men (1995)</td>\n",
       "      <td>Comedy|Romance</td>\n",
       "    </tr>\n",
       "    <tr>\n",
       "      <th>3</th>\n",
       "      <td>4</td>\n",
       "      <td>Waiting to Exhale (1995)</td>\n",
       "      <td>Comedy|Drama|Romance</td>\n",
       "    </tr>\n",
       "    <tr>\n",
       "      <th>4</th>\n",
       "      <td>5</td>\n",
       "      <td>Father of the Bride Part II (1995)</td>\n",
       "      <td>Comedy</td>\n",
       "    </tr>\n",
       "  </tbody>\n",
       "</table>\n",
       "</div>"
      ],
      "text/plain": [
       "   movieId                               title  \\\n",
       "0        1                    Toy Story (1995)   \n",
       "1        2                      Jumanji (1995)   \n",
       "2        3             Grumpier Old Men (1995)   \n",
       "3        4            Waiting to Exhale (1995)   \n",
       "4        5  Father of the Bride Part II (1995)   \n",
       "\n",
       "                                        genres  \n",
       "0  Adventure|Animation|Children|Comedy|Fantasy  \n",
       "1                   Adventure|Children|Fantasy  \n",
       "2                               Comedy|Romance  \n",
       "3                         Comedy|Drama|Romance  \n",
       "4                                       Comedy  "
      ]
     },
     "execution_count": 3,
     "metadata": {},
     "output_type": "execute_result"
    }
   ],
   "source": [
    "# Load movies and ratings datasets\n",
    "movies = pd.read_csv(r\"D:/me/projects/movielens-20m/movies.csv\")\n",
    "ratings = pd.read_csv(r\"D:/me/projects/movielens-20m/ratings.csv\")\n",
    "\n",
    "# Quick look at the first few rows\n",
    "movies.head()"
   ]
  },
  {
   "cell_type": "markdown",
   "id": "8971b1c2-2c05-4c2f-96ca-5d5c2bf41115",
   "metadata": {},
   "source": [
    "## Feature Engineering\n",
    "\n",
    "We transform the `genres` column into **one-hot encoded columns**.  \n",
    "We also compute **average ratings** and **popularity score** for each movie.\n"
   ]
  },
  {
   "cell_type": "code",
   "execution_count": 6,
   "id": "3488529f-e3db-4273-848f-933d18477b43",
   "metadata": {},
   "outputs": [],
   "source": [
    "# One-Hot Encoding of genres\n",
    "genres_encoded = movies['genres'].str.get_dummies(sep='|')\n",
    "movies_encoded = pd.concat([movies, genres_encoded], axis=1)\n",
    "\n",
    "# Rating stats: avg_rating and rating_count\n",
    "rating_stats = ratings.groupby('movieId')['rating'].agg(['mean','count']).reset_index()\n",
    "rating_stats.columns = ['movieId', 'avg_rating', 'rating_count']\n",
    "\n",
    "movies_encoded = movies_encoded.merge(rating_stats, on='movieId', how='left')\n",
    "movies_encoded['avg_rating'] = movies_encoded['avg_rating'].fillna(movies_encoded['avg_rating'].mean())\n",
    "movies_encoded['rating_count'] = movies_encoded['rating_count'].fillna(0)\n",
    "\n",
    "# Normalize popularity (log + min-max)\n",
    "movies_encoded['log_count'] = np.log1p(movies_encoded['rating_count'])\n",
    "minc = movies_encoded['log_count'].min()\n",
    "maxc = movies_encoded['log_count'].max()\n",
    "movies_encoded['pop_norm'] = (movies_encoded['log_count'] - minc) / (maxc - minc)\n",
    "\n",
    "# Extract release year from title\n",
    "def extract_year(title):\n",
    "    m = re.search(r'\\((\\d{4})\\)', title)\n",
    "    return int(m.group(1)) if m else np.nan\n",
    "\n",
    "movies_encoded['year'] = movies_encoded['title'].apply(extract_year)\n",
    "movies_encoded['year'] = movies_encoded['year'].fillna(0)"
   ]
  },
  {
   "cell_type": "markdown",
   "id": "c4f6f076-8c9b-4269-ad08-c190a6c0dbfe",
   "metadata": {},
   "source": [
    "## Compute Genre Similarity\n",
    "\n",
    "We compute the **cosine similarity** between movies based on their one-hot encoded genre features.  \n",
    "This gives a similarity score between 0 (no match) and 1 (exact match) for each movie pair."
   ]
  },
  {
   "cell_type": "code",
   "execution_count": 7,
   "id": "f668dd8d-7b88-42ff-80cb-fbaedec95f72",
   "metadata": {},
   "outputs": [
    {
     "name": "stdout",
     "output_type": "stream",
     "text": [
      "✅ Cosine similarity matrix shape: (27278, 27278)\n"
     ]
    }
   ],
   "source": [
    "# Select only genre columns (assuming they start from column index 3 to 23)\n",
    "genre_features = movies_encoded.iloc[:, 3:23]  # adjust indices if needed\n",
    "\n",
    "# Compute cosine similarity matrix\n",
    "cosine_sim = cosine_similarity(genre_features, genre_features)\n",
    "\n",
    "print(\"✅ Cosine similarity matrix shape:\", cosine_sim.shape)"
   ]
  },
  {
   "cell_type": "markdown",
   "id": "e8bea4be-faf9-4acc-8018-f516823c264a",
   "metadata": {},
   "source": [
    "## Content-Based Recommendation Function\n",
    "\n",
    "The function below returns top-N similar movies for a given title.  \n",
    "It uses **genre similarity** and **popularity weighting** based on normalized rating counts."
   ]
  },
  {
   "cell_type": "code",
   "execution_count": 9,
   "id": "e50c5a09-ff36-4618-864c-b5dc3edbd1e0",
   "metadata": {},
   "outputs": [],
   "source": [
    "# Prepare mapping from title to DataFrame index\n",
    "titles = movies_encoded['title'].reset_index(drop=True)\n",
    "title_to_idx = pd.Series(titles.index, index=titles.str.lower()).to_dict()\n",
    "\n",
    "# Recommendation function\n",
    "def get_similar_movies_weighted(title, n=10, alpha=1.0, min_year=None):\n",
    "    \"\"\"\n",
    "    Return top-n movies similar to the given title, weighted by popularity.\n",
    "    \n",
    "    Parameters:\n",
    "    title (str): Movie title (case-insensitive)\n",
    "    n (int): Number of recommendations\n",
    "    alpha (float): Popularity weight factor\n",
    "    min_year (int, optional): Filter movies released after this year\n",
    "    \n",
    "    Returns:\n",
    "    List of tuples: (movie title, combined_score, genre_similarity, popularity_score)\n",
    "    \"\"\"\n",
    "    key = title.lower()\n",
    "    if key not in title_to_idx:\n",
    "        # attempt partial match\n",
    "        matches = [t for t in titles.str.lower() if key in t]\n",
    "        if len(matches) == 0:\n",
    "            raise KeyError(f\"Title '{title}' not found (exact or partial).\")\n",
    "        key = matches[0]\n",
    "    idx = title_to_idx[key]\n",
    "    \n",
    "    sims = cosine_sim[idx]  # genre similarity array\n",
    "    pop = movies_encoded['pop_norm'].values  # normalized popularity\n",
    "    \n",
    "    # Combined score\n",
    "    combined = sims * (1.0 + alpha * pop)\n",
    "    \n",
    "    # Optional year filter\n",
    "    indices = np.arange(len(titles))\n",
    "    if min_year is not None:\n",
    "        mask = movies_encoded['year'].fillna(0).values >= min_year\n",
    "        indices = indices[mask]\n",
    "        combined = combined[mask]\n",
    "    \n",
    "    # Get top-n recommendations excluding the movie itself\n",
    "    sorted_idx = np.argsort(combined)[::-1]\n",
    "    results = []\n",
    "    for i in sorted_idx:\n",
    "        orig_idx = indices[i] if min_year is not None else i\n",
    "        if orig_idx == idx:\n",
    "            continue\n",
    "        results.append((\n",
    "            titles.iloc[orig_idx], \n",
    "            float(combined[i]), \n",
    "            float(sims[orig_idx]), \n",
    "            float(movies_encoded.iloc[orig_idx]['pop_norm'])\n",
    "        ))\n",
    "        if len(results) >= n:\n",
    "            break\n",
    "    return results\n"
   ]
  },
  {
   "cell_type": "markdown",
   "id": "4e74dbee-8ab5-45aa-b6ea-c39da6647537",
   "metadata": {},
   "source": [
    "## Example: Get Top-5 Recommendations"
   ]
  },
  {
   "cell_type": "code",
   "execution_count": 11,
   "id": "6d5d4438-6df3-400e-9f9f-6ab26ae100d3",
   "metadata": {},
   "outputs": [
    {
     "name": "stdout",
     "output_type": "stream",
     "text": [
      "('Monsters, Inc. (2001)', 1.9059445065408471, 0.9999999999999999, 0.9059445065408472)\n",
      "('Toy Story 2 (1999)', 1.9025071352897738, 0.9999999999999999, 0.9025071352897741)\n",
      "('Antz (1998)', 1.8299488909208368, 0.9999999999999999, 0.8299488909208371)\n",
      "(\"Emperor's New Groove, The (2000)\", 1.7747909399818165, 0.9999999999999999, 0.7747909399818168)\n",
      "('Shrek (2001)', 1.7646133713151393, 0.9128709291752769, 0.9330370974890827)\n"
     ]
    }
   ],
   "source": [
    "recommendations = get_similar_movies_weighted('Toy Story (1995)', n=5, alpha=1.0)\n",
    "for rec in recommendations:\n",
    "    print(rec)"
   ]
  },
  {
   "cell_type": "code",
   "execution_count": 2,
   "id": "a3eabf5d-d209-4993-8491-4b23d09f0ff7",
   "metadata": {},
   "outputs": [
    {
     "name": "stdout",
     "output_type": "stream",
     "text": [
      "D:\\me\\projects\\movie_recommender\n"
     ]
    }
   ],
   "source": [
    "import os\n",
    "os.chdir(r\"D:\\me\\projects\\movie_recommender\")\n",
    "print(os.getcwd())"
   ]
  },
  {
   "cell_type": "code",
   "execution_count": null,
   "id": "4bd8e2b8-eb65-4893-980f-0c71e3fb71d0",
   "metadata": {},
   "outputs": [],
   "source": []
  }
 ],
 "metadata": {
  "kernelspec": {
   "display_name": "Python [conda env:base] *",
   "language": "python",
   "name": "conda-base-py"
  },
  "language_info": {
   "codemirror_mode": {
    "name": "ipython",
    "version": 3
   },
   "file_extension": ".py",
   "mimetype": "text/x-python",
   "name": "python",
   "nbconvert_exporter": "python",
   "pygments_lexer": "ipython3",
   "version": "3.13.5"
  }
 },
 "nbformat": 4,
 "nbformat_minor": 5
}
